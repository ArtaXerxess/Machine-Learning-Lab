{
  "nbformat": 4,
  "nbformat_minor": 0,
  "metadata": {
    "colab": {
      "name": "ML Lab 3.ipynb",
      "provenance": []
    },
    "kernelspec": {
      "name": "python3",
      "display_name": "Python 3"
    },
    "language_info": {
      "name": "python"
    }
  },
  "cells": [
    {
      "cell_type": "code",
      "source": [
        "import numpy as np\n",
        "import pandas as pd \n",
        "import matplotlib.pyplot as plt\n",
        "import os"
      ],
      "metadata": {
        "id": "XKBEKlhc1Ubj"
      },
      "execution_count": null,
      "outputs": []
    },
    {
      "cell_type": "code",
      "source": [
        "data = pd.read_csv(\"heart.csv\")"
      ],
      "metadata": {
        "id": "5gDJmw9_1oSO"
      },
      "execution_count": null,
      "outputs": []
    },
    {
      "cell_type": "code",
      "source": [
        "data.info()"
      ],
      "metadata": {
        "colab": {
          "base_uri": "https://localhost:8080/"
        },
        "id": "vYcV9Fv51sec",
        "outputId": "c503d363-d188-4767-9845-bcb112e7557f"
      },
      "execution_count": null,
      "outputs": [
        {
          "output_type": "stream",
          "name": "stdout",
          "text": [
            "<class 'pandas.core.frame.DataFrame'>\n",
            "RangeIndex: 1025 entries, 0 to 1024\n",
            "Data columns (total 14 columns):\n",
            " #   Column    Non-Null Count  Dtype  \n",
            "---  ------    --------------  -----  \n",
            " 0   age       1025 non-null   int64  \n",
            " 1   sex       1025 non-null   int64  \n",
            " 2   cp        1025 non-null   int64  \n",
            " 3   trestbps  1025 non-null   int64  \n",
            " 4   chol      1025 non-null   int64  \n",
            " 5   fbs       1025 non-null   int64  \n",
            " 6   restecg   1025 non-null   int64  \n",
            " 7   thalach   1025 non-null   int64  \n",
            " 8   exang     1025 non-null   int64  \n",
            " 9   oldpeak   1025 non-null   float64\n",
            " 10  slope     1025 non-null   int64  \n",
            " 11  ca        1025 non-null   int64  \n",
            " 12  thal      1025 non-null   int64  \n",
            " 13  target    1025 non-null   int64  \n",
            "dtypes: float64(1), int64(13)\n",
            "memory usage: 112.2 KB\n"
          ]
        }
      ]
    },
    {
      "cell_type": "code",
      "source": [
        "data.head()"
      ],
      "metadata": {
        "colab": {
          "base_uri": "https://localhost:8080/",
          "height": 206
        },
        "id": "0a4ekshj1y3g",
        "outputId": "c54e056b-0c12-4924-c1fd-97b2a56883d3"
      },
      "execution_count": null,
      "outputs": [
        {
          "output_type": "execute_result",
          "data": {
            "text/plain": [
              "   age  sex  cp  trestbps  chol  fbs  restecg  thalach  exang  oldpeak  slope  \\\n",
              "0   52    1   0       125   212    0        1      168      0      1.0      2   \n",
              "1   53    1   0       140   203    1        0      155      1      3.1      0   \n",
              "2   70    1   0       145   174    0        1      125      1      2.6      0   \n",
              "3   61    1   0       148   203    0        1      161      0      0.0      2   \n",
              "4   62    0   0       138   294    1        1      106      0      1.9      1   \n",
              "\n",
              "   ca  thal  target  \n",
              "0   2     3       0  \n",
              "1   0     3       0  \n",
              "2   0     3       0  \n",
              "3   1     3       0  \n",
              "4   3     2       0  "
            ],
            "text/html": [
              "\n",
              "  <div id=\"df-e88b60ea-2998-4841-b15f-e3539aafb8ec\">\n",
              "    <div class=\"colab-df-container\">\n",
              "      <div>\n",
              "<style scoped>\n",
              "    .dataframe tbody tr th:only-of-type {\n",
              "        vertical-align: middle;\n",
              "    }\n",
              "\n",
              "    .dataframe tbody tr th {\n",
              "        vertical-align: top;\n",
              "    }\n",
              "\n",
              "    .dataframe thead th {\n",
              "        text-align: right;\n",
              "    }\n",
              "</style>\n",
              "<table border=\"1\" class=\"dataframe\">\n",
              "  <thead>\n",
              "    <tr style=\"text-align: right;\">\n",
              "      <th></th>\n",
              "      <th>age</th>\n",
              "      <th>sex</th>\n",
              "      <th>cp</th>\n",
              "      <th>trestbps</th>\n",
              "      <th>chol</th>\n",
              "      <th>fbs</th>\n",
              "      <th>restecg</th>\n",
              "      <th>thalach</th>\n",
              "      <th>exang</th>\n",
              "      <th>oldpeak</th>\n",
              "      <th>slope</th>\n",
              "      <th>ca</th>\n",
              "      <th>thal</th>\n",
              "      <th>target</th>\n",
              "    </tr>\n",
              "  </thead>\n",
              "  <tbody>\n",
              "    <tr>\n",
              "      <th>0</th>\n",
              "      <td>52</td>\n",
              "      <td>1</td>\n",
              "      <td>0</td>\n",
              "      <td>125</td>\n",
              "      <td>212</td>\n",
              "      <td>0</td>\n",
              "      <td>1</td>\n",
              "      <td>168</td>\n",
              "      <td>0</td>\n",
              "      <td>1.0</td>\n",
              "      <td>2</td>\n",
              "      <td>2</td>\n",
              "      <td>3</td>\n",
              "      <td>0</td>\n",
              "    </tr>\n",
              "    <tr>\n",
              "      <th>1</th>\n",
              "      <td>53</td>\n",
              "      <td>1</td>\n",
              "      <td>0</td>\n",
              "      <td>140</td>\n",
              "      <td>203</td>\n",
              "      <td>1</td>\n",
              "      <td>0</td>\n",
              "      <td>155</td>\n",
              "      <td>1</td>\n",
              "      <td>3.1</td>\n",
              "      <td>0</td>\n",
              "      <td>0</td>\n",
              "      <td>3</td>\n",
              "      <td>0</td>\n",
              "    </tr>\n",
              "    <tr>\n",
              "      <th>2</th>\n",
              "      <td>70</td>\n",
              "      <td>1</td>\n",
              "      <td>0</td>\n",
              "      <td>145</td>\n",
              "      <td>174</td>\n",
              "      <td>0</td>\n",
              "      <td>1</td>\n",
              "      <td>125</td>\n",
              "      <td>1</td>\n",
              "      <td>2.6</td>\n",
              "      <td>0</td>\n",
              "      <td>0</td>\n",
              "      <td>3</td>\n",
              "      <td>0</td>\n",
              "    </tr>\n",
              "    <tr>\n",
              "      <th>3</th>\n",
              "      <td>61</td>\n",
              "      <td>1</td>\n",
              "      <td>0</td>\n",
              "      <td>148</td>\n",
              "      <td>203</td>\n",
              "      <td>0</td>\n",
              "      <td>1</td>\n",
              "      <td>161</td>\n",
              "      <td>0</td>\n",
              "      <td>0.0</td>\n",
              "      <td>2</td>\n",
              "      <td>1</td>\n",
              "      <td>3</td>\n",
              "      <td>0</td>\n",
              "    </tr>\n",
              "    <tr>\n",
              "      <th>4</th>\n",
              "      <td>62</td>\n",
              "      <td>0</td>\n",
              "      <td>0</td>\n",
              "      <td>138</td>\n",
              "      <td>294</td>\n",
              "      <td>1</td>\n",
              "      <td>1</td>\n",
              "      <td>106</td>\n",
              "      <td>0</td>\n",
              "      <td>1.9</td>\n",
              "      <td>1</td>\n",
              "      <td>3</td>\n",
              "      <td>2</td>\n",
              "      <td>0</td>\n",
              "    </tr>\n",
              "  </tbody>\n",
              "</table>\n",
              "</div>\n",
              "      <button class=\"colab-df-convert\" onclick=\"convertToInteractive('df-e88b60ea-2998-4841-b15f-e3539aafb8ec')\"\n",
              "              title=\"Convert this dataframe to an interactive table.\"\n",
              "              style=\"display:none;\">\n",
              "        \n",
              "  <svg xmlns=\"http://www.w3.org/2000/svg\" height=\"24px\"viewBox=\"0 0 24 24\"\n",
              "       width=\"24px\">\n",
              "    <path d=\"M0 0h24v24H0V0z\" fill=\"none\"/>\n",
              "    <path d=\"M18.56 5.44l.94 2.06.94-2.06 2.06-.94-2.06-.94-.94-2.06-.94 2.06-2.06.94zm-11 1L8.5 8.5l.94-2.06 2.06-.94-2.06-.94L8.5 2.5l-.94 2.06-2.06.94zm10 10l.94 2.06.94-2.06 2.06-.94-2.06-.94-.94-2.06-.94 2.06-2.06.94z\"/><path d=\"M17.41 7.96l-1.37-1.37c-.4-.4-.92-.59-1.43-.59-.52 0-1.04.2-1.43.59L10.3 9.45l-7.72 7.72c-.78.78-.78 2.05 0 2.83L4 21.41c.39.39.9.59 1.41.59.51 0 1.02-.2 1.41-.59l7.78-7.78 2.81-2.81c.8-.78.8-2.07 0-2.86zM5.41 20L4 18.59l7.72-7.72 1.47 1.35L5.41 20z\"/>\n",
              "  </svg>\n",
              "      </button>\n",
              "      \n",
              "  <style>\n",
              "    .colab-df-container {\n",
              "      display:flex;\n",
              "      flex-wrap:wrap;\n",
              "      gap: 12px;\n",
              "    }\n",
              "\n",
              "    .colab-df-convert {\n",
              "      background-color: #E8F0FE;\n",
              "      border: none;\n",
              "      border-radius: 50%;\n",
              "      cursor: pointer;\n",
              "      display: none;\n",
              "      fill: #1967D2;\n",
              "      height: 32px;\n",
              "      padding: 0 0 0 0;\n",
              "      width: 32px;\n",
              "    }\n",
              "\n",
              "    .colab-df-convert:hover {\n",
              "      background-color: #E2EBFA;\n",
              "      box-shadow: 0px 1px 2px rgba(60, 64, 67, 0.3), 0px 1px 3px 1px rgba(60, 64, 67, 0.15);\n",
              "      fill: #174EA6;\n",
              "    }\n",
              "\n",
              "    [theme=dark] .colab-df-convert {\n",
              "      background-color: #3B4455;\n",
              "      fill: #D2E3FC;\n",
              "    }\n",
              "\n",
              "    [theme=dark] .colab-df-convert:hover {\n",
              "      background-color: #434B5C;\n",
              "      box-shadow: 0px 1px 3px 1px rgba(0, 0, 0, 0.15);\n",
              "      filter: drop-shadow(0px 1px 2px rgba(0, 0, 0, 0.3));\n",
              "      fill: #FFFFFF;\n",
              "    }\n",
              "  </style>\n",
              "\n",
              "      <script>\n",
              "        const buttonEl =\n",
              "          document.querySelector('#df-e88b60ea-2998-4841-b15f-e3539aafb8ec button.colab-df-convert');\n",
              "        buttonEl.style.display =\n",
              "          google.colab.kernel.accessAllowed ? 'block' : 'none';\n",
              "\n",
              "        async function convertToInteractive(key) {\n",
              "          const element = document.querySelector('#df-e88b60ea-2998-4841-b15f-e3539aafb8ec');\n",
              "          const dataTable =\n",
              "            await google.colab.kernel.invokeFunction('convertToInteractive',\n",
              "                                                     [key], {});\n",
              "          if (!dataTable) return;\n",
              "\n",
              "          const docLinkHtml = 'Like what you see? Visit the ' +\n",
              "            '<a target=\"_blank\" href=https://colab.research.google.com/notebooks/data_table.ipynb>data table notebook</a>'\n",
              "            + ' to learn more about interactive tables.';\n",
              "          element.innerHTML = '';\n",
              "          dataTable['output_type'] = 'display_data';\n",
              "          await google.colab.output.renderOutput(dataTable, element);\n",
              "          const docLink = document.createElement('div');\n",
              "          docLink.innerHTML = docLinkHtml;\n",
              "          element.appendChild(docLink);\n",
              "        }\n",
              "      </script>\n",
              "    </div>\n",
              "  </div>\n",
              "  "
            ]
          },
          "metadata": {},
          "execution_count": 8
        }
      ]
    },
    {
      "cell_type": "code",
      "source": [
        "y =data.target.values\n",
        "x1=data.drop([\"target\"],axis=1)"
      ],
      "metadata": {
        "id": "T2z4Ul3j12Fe"
      },
      "execution_count": null,
      "outputs": []
    },
    {
      "cell_type": "code",
      "source": [
        "x0 =(1 - np.min(x1))/(np.max(x1)-np.min(x1)).values"
      ],
      "metadata": {
        "id": "aETcrTu415nx"
      },
      "execution_count": null,
      "outputs": []
    },
    {
      "cell_type": "code",
      "source": [
        "from sklearn.model_selection import train_test_split\n",
        "xtrain, xtest, ytrain, ytest = train_test_split(x,y,test_size=0.2, random_state=42)"
      ],
      "metadata": {
        "id": "BsqNsaEq19mY"
      },
      "execution_count": null,
      "outputs": []
    },
    {
      "cell_type": "code",
      "source": [
        "xtrain = xtrain.T\n",
        "xtest = xtest.T\n",
        "ytrain = ytrain.T\n",
        "ytest = ytest.T"
      ],
      "metadata": {
        "id": "36kHjvOz2AYN"
      },
      "execution_count": null,
      "outputs": []
    },
    {
      "cell_type": "code",
      "source": [
        "def initializing_weights_and_bias(dimension):\n",
        "    w = np.full((dimension,1),0.01)\n",
        "    b = 0.0\n",
        "    return w,b\n",
        "def sigmoid(z):\n",
        "    y_head = 1/(1+ np.exp(-z))\n",
        "    return y_head"
      ],
      "metadata": {
        "id": "zSQc0z-32C73"
      },
      "execution_count": null,
      "outputs": []
    },
    {
      "cell_type": "code",
      "source": [
        "def forward_backwardpropogation(w,b,xtrain,y_train):\n",
        "    z = np.dot(w.T,xtrain) +  b \n",
        "    y_head = sigmoid(z)\n",
        "    loss = -ytrain*np.log(y_head)-(1-ytrain)*np.log(1-y_head)\n",
        "    cost = (np.sum(loss))/xtrain.shape[1]\n",
        "    derivative_weight = (np.dot(xtrain,((y_head-ytrain).T)))/xtrain.shape[1] \n",
        "    derivetive_bias = np.sum(y_head-ytrain)/xtrain.shape[1]\n",
        "    gradients = {\"derivative_weight\": derivative_weight,\"derivetive_bias\": derivetive_bias}\n",
        "    \n",
        "    return cost,gradients"
      ],
      "metadata": {
        "id": "iBleQOO92FeT"
      },
      "execution_count": null,
      "outputs": []
    },
    {
      "cell_type": "code",
      "source": [
        "def update(w,b,xtrain, ytrain, learning_rate, number_of_iteration):\n",
        "    costlist = []\n",
        "    costlist2 = []\n",
        "    index = []\n",
        "    for i in range(number_of_iteration):\n",
        "        cost,gradients = forward_backwardpropogation(w,b,xtrain,ytrain)\n",
        "        costlist.append(cost)\n",
        "        w = w - learning_rate*gradients[\"derivative_weight\"]\n",
        "        b = b - learning_rate*gradients[\"derivetive_bias\"]\n",
        "        if i % 10 == 0:\n",
        "            costlist2.append(cost)\n",
        "            index.append(i)\n",
        "            print(\"Cost after iteration %i: %f\" %(i,cost))\n",
        "    parameters = {\"weight\": w, \"bias\":b}\n",
        "    plt.plot(index,costlist2)\n",
        "    plt.xticks(index,rotation='vertical')\n",
        "    plt.xlabel(\"Number of iteration\")\n",
        "    plt.ylabel(\"Cost\")\n",
        "    plt.show()\n",
        "    return parameters, gradients, costlist"
      ],
      "metadata": {
        "id": "F2kztD8K2ISk"
      },
      "execution_count": null,
      "outputs": []
    },
    {
      "cell_type": "code",
      "source": [
        "def predict(w,b,xtest):\n",
        "    \n",
        "    z =sigmoid(np.dot(w.T,xtest)+b)\n",
        "    y_prediction = np.zeros((1,xtest.shape[1]))\n",
        "    for i in range(z.shape[1]):\n",
        "        if z[0,i]<=0.5:\n",
        "            y_prediction[0,i] = 0\n",
        "        else:\n",
        "            y_prediction[0,i] = 1\n",
        "    return y_prediction"
      ],
      "metadata": {
        "id": "57cCn8lh2ZBA"
      },
      "execution_count": null,
      "outputs": []
    },
    {
      "cell_type": "code",
      "source": [
        "def LogReg(xtrain,ytrain,xtest,ytest,learning_rate,number_of_iteration):\n",
        "    dimension = xtrain.shape[0] \n",
        "    w,b=initializing_weights_and_bias(dimension)\n",
        "    parameters,gradients,costlist = update(w,b,xtrain,ytrain,learning_rate,number_of_iteration)\n",
        "    y_prediciton_test = predict(parameters[\"weight\"],parameters[\"bias\"],xtest)\n",
        "    print(\"Test Accuracy:{} %\".format(100-np.mean(np.abs(y_prediciton_test-ytest))*100))"
      ],
      "metadata": {
        "id": "PKTdkGXg2b1a"
      },
      "execution_count": null,
      "outputs": []
    },
    {
      "cell_type": "code",
      "source": [
        "LogReg(xtrain,ytrain,xtest,ytest,learning_rate=1,number_of_iteration =50 )"
      ],
      "metadata": {
        "colab": {
          "base_uri": "https://localhost:8080/",
          "height": 393
        },
        "id": "_KfO7Ahn2ftx",
        "outputId": "3b7d5a69-c154-4a5f-815b-3c0de2effb05"
      },
      "execution_count": null,
      "outputs": [
        {
          "output_type": "stream",
          "name": "stdout",
          "text": [
            "Cost after iteration 0: 0.694289\n",
            "Cost after iteration 10: 0.521710\n",
            "Cost after iteration 20: 0.461348\n",
            "Cost after iteration 30: 0.431428\n",
            "Cost after iteration 40: 0.413228\n"
          ]
        },
        {
          "output_type": "display_data",
          "data": {
            "text/plain": [
              "<Figure size 432x288 with 1 Axes>"
            ],
            "image/png": "[encoded data removed]"
          },
          "metadata": {
            "needs_background": "light"
          }
        },
        {
          "output_type": "stream",
          "name": "stdout",
          "text": [
            "Test Accuracy:80.0 %\n"
          ]
        }
      ]
    },
    {
      "cell_type": "code",
      "source": [
        "LogReg(xtrain,ytrain,xtest,ytest,learning_rate=1,number_of_iteration =100 )"
      ],
      "metadata": {
        "colab": {
          "base_uri": "https://localhost:8080/",
          "height": 480
        },
        "id": "p6euFaAr2jWS",
        "outputId": "3df84ae8-5781-49e5-9e97-ec628641b113"
      },
      "execution_count": null,
      "outputs": [
        {
          "output_type": "stream",
          "name": "stdout",
          "text": [
            "Cost after iteration 0: 0.694289\n",
            "Cost after iteration 10: 0.521710\n",
            "Cost after iteration 20: 0.461348\n",
            "Cost after iteration 30: 0.431428\n",
            "Cost after iteration 40: 0.413228\n",
            "Cost after iteration 50: 0.400787\n",
            "Cost after iteration 60: 0.391656\n",
            "Cost after iteration 70: 0.384629\n",
            "Cost after iteration 80: 0.379037\n",
            "Cost after iteration 90: 0.374472\n"
          ]
        },
        {
          "output_type": "display_data",
          "data": {
            "text/plain": [
              "<Figure size 432x288 with 1 Axes>"
            ],
            "image/png": "[encoded data removed]"
          },
          "metadata": {
            "needs_background": "light"
          }
        },
        {
          "output_type": "stream",
          "name": "stdout",
          "text": [
            "Test Accuracy:81.95121951219512 %\n"
          ]
        }
      ]
    },
    {
      "cell_type": "code",
      "source": [
        "LogReg(xtrain,ytrain,xtest,ytest,learning_rate=1,number_of_iteration =100)"
      ],
      "metadata": {
        "colab": {
          "base_uri": "https://localhost:8080/",
          "height": 480
        },
        "id": "9ge1yjyV2njW",
        "outputId": "331b66ee-6bce-40d8-b282-9645ade35b62"
      },
      "execution_count": null,
      "outputs": [
        {
          "output_type": "stream",
          "name": "stdout",
          "text": [
            "Cost after iteration 0: 0.694289\n",
            "Cost after iteration 10: 0.521710\n",
            "Cost after iteration 20: 0.461348\n",
            "Cost after iteration 30: 0.431428\n",
            "Cost after iteration 40: 0.413228\n",
            "Cost after iteration 50: 0.400787\n",
            "Cost after iteration 60: 0.391656\n",
            "Cost after iteration 70: 0.384629\n",
            "Cost after iteration 80: 0.379037\n",
            "Cost after iteration 90: 0.374472\n"
          ]
        },
        {
          "output_type": "display_data",
          "data": {
            "text/plain": [
              "<Figure size 432x288 with 1 Axes>"
            ],
            "image/png": "[encoded data removed]"
          },
          "metadata": {
            "needs_background": "light"
          }
        },
        {
          "output_type": "stream",
          "name": "stdout",
          "text": [
            "Test Accuracy:81.95121951219512 %\n"
          ]
        }
      ]
    },
    {
      "cell_type": "code",
      "source": [
        "LogReg(xtrain,ytrain,xtest,ytest,learning_rate=3,number_of_iteration =300)"
      ],
      "metadata": {
        "colab": {
          "base_uri": "https://localhost:8080/",
          "height": 834
        },
        "id": "heTSmvdC2skk",
        "outputId": "3aa5ea3a-ec05-402f-d0f1-9743279df37e"
      },
      "execution_count": null,
      "outputs": [
        {
          "output_type": "stream",
          "name": "stdout",
          "text": [
            "Cost after iteration 0: 0.694289\n",
            "Cost after iteration 10: 0.563004\n",
            "Cost after iteration 20: 0.387820\n",
            "Cost after iteration 30: 0.371660\n",
            "Cost after iteration 40: 0.363062\n",
            "Cost after iteration 50: 0.357291\n",
            "Cost after iteration 60: 0.353120\n",
            "Cost after iteration 70: 0.349944\n",
            "Cost after iteration 80: 0.347433\n",
            "Cost after iteration 90: 0.345390\n",
            "Cost after iteration 100: 0.343692\n",
            "Cost after iteration 110: 0.342256\n",
            "Cost after iteration 120: 0.341025\n",
            "Cost after iteration 130: 0.339958\n",
            "Cost after iteration 140: 0.339025\n",
            "Cost after iteration 150: 0.338203\n",
            "Cost after iteration 160: 0.337474\n",
            "Cost after iteration 170: 0.336825\n",
            "Cost after iteration 180: 0.336243\n",
            "Cost after iteration 190: 0.335719\n",
            "Cost after iteration 200: 0.335247\n",
            "Cost after iteration 210: 0.334819\n",
            "Cost after iteration 220: 0.334431\n",
            "Cost after iteration 230: 0.334077\n",
            "Cost after iteration 240: 0.333754\n",
            "Cost after iteration 250: 0.333459\n",
            "Cost after iteration 260: 0.333188\n",
            "Cost after iteration 270: 0.332939\n",
            "Cost after iteration 280: 0.332710\n",
            "Cost after iteration 290: 0.332498\n"
          ]
        },
        {
          "output_type": "display_data",
          "data": {
            "text/plain": [
              "<Figure size 432x288 with 1 Axes>"
            ],
            "image/png": "[encoded data removed]"
          },
          "metadata": {
            "needs_background": "light"
          }
        },
        {
          "output_type": "stream",
          "name": "stdout",
          "text": [
            "Test Accuracy:80.0 %\n"
          ]
        }
      ]
    },
    {
      "cell_type": "code",
      "source": [
        "from sklearn.linear_model import LogisticRegression\n",
        "LR = LogisticRegression()\n",
        "LR.fit(xtrain.T,ytrain.T)\n",
        "print(\"Test Accuracy {}\".format(LR.score(xtest.T,ytest.T))) "
      ],
      "metadata": {
        "colab": {
          "base_uri": "https://localhost:8080/"
        },
        "id": "7i1MF69e2zF1",
        "outputId": "30abcdef-8634-46bb-cc1c-24fb673615c3"
      },
      "execution_count": null,
      "outputs": [
        {
          "output_type": "stream",
          "name": "stdout",
          "text": [
            "Test Accuracy 0.8048780487804879\n"
          ]
        }
      ]
    },
    {
      "cell_type": "code",
      "source": [
        "yprediciton= LR.predict(xtest.T)\n",
        "ytrue = ytest.T\n",
        "from sklearn.metrics import confusion_matrix\n",
        "CM = confusion_matrix(ytrue,yprediciton)\n",
        "import seaborn as sns\n",
        "import matplotlib.pyplot as plt\n",
        "f, ax = plt.subplots(figsize=(5,5))\n",
        "sns.heatmap(CM,annot = True, linewidths=0.5,linecolor=\"red\",fmt=\".0f\",ax=ax)\n",
        "plt.xlabel(\"Prediction(Ypred)\")\n",
        "plt.ylabel(\"Ytrue\")\n",
        "plt.show()"
      ],
      "metadata": {
        "colab": {
          "base_uri": "https://localhost:8080/",
          "height": 340
        },
        "id": "hysQcw5g24yF",
        "outputId": "f71be9c0-8b8f-4b54-a1dd-b7fb5d9eeff1"
      },
      "execution_count": null,
      "outputs": [
        {
          "output_type": "display_data",
          "data": {
            "text/plain": [
              "<Figure size 360x360 with 2 Axes>"
            ],
            "image/png": "[encoded data removed]"
          },
          "metadata": {
            "needs_background": "light"
          }
        }
      ]
    }
  ]
}